{
 "cells": [
  {
   "cell_type": "code",
   "execution_count": 2,
   "source": [
    "import pandas as pd\n",
    "import numpy as np\n",
    "import collections\n",
    "import math"
   ],
   "outputs": [],
   "metadata": {}
  },
  {
   "cell_type": "code",
   "execution_count": 3,
   "source": [
    "bar_arr = ['R','G','G','B','R']\n",
    "draw_arr = ['R','R','G']\n",
    "draw_arr2 = ['B','E']\n",
    "c = collections.Counter(bar_arr)\n",
    "d = collections.Counter(draw_arr)\n",
    "e = collections.Counter(draw_arr2)"
   ],
   "outputs": [],
   "metadata": {}
  },
  {
   "cell_type": "code",
   "execution_count": 4,
   "source": [
    "\n",
    "def bag_probability(bag, seq):\n",
    "    prob = 1\n",
    "    for el in seq:\n",
    "        mybag = collections.Counter(bag)\n",
    "        if mybag[el] == 0:\n",
    "            return 0\n",
    "        else:\n",
    "            \n",
    "            prob *= mybag[el]/len(bag)\n",
    "            bag.remove(el)\n",
    "    return prob"
   ],
   "outputs": [],
   "metadata": {}
  },
  {
   "cell_type": "code",
   "execution_count": 5,
   "source": [
    "bar_arr = ['R','B','B']\n",
    "draw_arr = ['B','G']\n",
    "bag_probability(bar_arr, draw_arr)"
   ],
   "outputs": [
    {
     "output_type": "execute_result",
     "data": {
      "text/plain": [
       "0"
      ]
     },
     "metadata": {},
     "execution_count": 5
    }
   ],
   "metadata": {}
  },
  {
   "cell_type": "code",
   "execution_count": 6,
   "source": [
    "def lowest_scoring_team(mat):\n",
    "    allplayer = mat[:, 0]\n",
    "    return "
   ],
   "outputs": [],
   "metadata": {}
  },
  {
   "cell_type": "code",
   "execution_count": 47,
   "source": [
    "x = pd.DataFrame([[23,1,1,23],[23,1,4,0], [34,1,1,35], [7,2,4,0]])\n",
    "team_ttlpoints = x.groupby([1,0])[3].sum().reset_index(name='sum')\n",
    "team_ttlgames = x.groupby([1,0])[2].count().reset_index(name=\"games\")"
   ],
   "outputs": [],
   "metadata": {}
  },
  {
   "cell_type": "code",
   "execution_count": 51,
   "source": [
    "team_ttlpoints['avg'] = team_ttlpoints['sum']/team_ttlgames['games']\n",
    "team_ttlpoints.groupby(1)['avg'].mean().idxmin()"
   ],
   "outputs": [
    {
     "output_type": "execute_result",
     "data": {
      "text/plain": [
       "2"
      ]
     },
     "metadata": {},
     "execution_count": 51
    }
   ],
   "metadata": {}
  },
  {
   "cell_type": "code",
   "execution_count": 36,
   "source": [],
   "outputs": [
    {
     "output_type": "execute_result",
     "data": {
      "text/plain": [
       "1  0 \n",
       "1  23    11.5\n",
       "   34    35.0\n",
       "2  7      0.0\n",
       "dtype: float64"
      ]
     },
     "metadata": {},
     "execution_count": 36
    }
   ],
   "metadata": {}
  },
  {
   "cell_type": "code",
   "execution_count": 59,
   "source": [
    "math.factorial(5)/4"
   ],
   "outputs": [
    {
     "output_type": "execute_result",
     "data": {
      "text/plain": [
       "30.0"
      ]
     },
     "metadata": {},
     "execution_count": 59
    }
   ],
   "metadata": {}
  },
  {
   "cell_type": "code",
   "execution_count": null,
   "source": [],
   "outputs": [],
   "metadata": {}
  }
 ],
 "metadata": {
  "orig_nbformat": 4,
  "language_info": {
   "name": "python",
   "version": "3.8.5",
   "mimetype": "text/x-python",
   "codemirror_mode": {
    "name": "ipython",
    "version": 3
   },
   "pygments_lexer": "ipython3",
   "nbconvert_exporter": "python",
   "file_extension": ".py"
  },
  "kernelspec": {
   "name": "python3",
   "display_name": "Python 3.8.5 64-bit"
  },
  "interpreter": {
   "hash": "976ce2bda790a58f831b3cd9628791a12ef5b3d61773f61425a8047b1ad6a185"
  }
 },
 "nbformat": 4,
 "nbformat_minor": 2
}