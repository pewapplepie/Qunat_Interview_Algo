{
 "cells": [
  {
   "cell_type": "markdown",
   "metadata": {},
   "source": [
    "# Meandering Array\n",
    "\n",
    "Given a sorted array of positive integers, rearrange the array alternately i.e first element should be the maximum value, second minimum value, third-second max, fourth-second min and so on.\n",
    "\n",
    "Examples:\n",
    "\n",
    "Input: arr[] = {1, 2, 3, 4, 5, 6, 7}  \n",
    "Output: arr[] = {7, 1, 6, 2, 5, 3, 4}  \n",
    "\n",
    "Input: arr[] = {1, 2, 3, 4, 5, 6}  \n",
    "Output: arr[] = {6, 1, 5, 2, 4, 3}  "
   ]
  },
  {
   "cell_type": "code",
   "execution_count": 1,
   "metadata": {},
   "outputs": [],
   "source": [
    "def meanderingArray(nums):\n",
    "    \n",
    "    nums.sort()\n",
    "    \n",
    "    n = len(nums)\n",
    "    l, r = 0, n-1\n",
    "    res = []\n",
    "    \n",
    "    while len(res) != n:\n",
    "        \n",
    "        res.append(nums[r])\n",
    "        r -= 1\n",
    "        \n",
    "        if len(res) == n:\n",
    "            break\n",
    "        \n",
    "        res.append(nums[l])\n",
    "        l += 1\n",
    "        \n",
    "    return res"
   ]
  },
  {
   "cell_type": "code",
   "execution_count": 2,
   "metadata": {},
   "outputs": [],
   "source": [
    "nums = [1,2,3,4,5,6,7,]"
   ]
  },
  {
   "cell_type": "code",
   "execution_count": 3,
   "metadata": {
    "scrolled": false
   },
   "outputs": [
    {
     "data": {
      "text/plain": [
       "[7, 1, 6, 2, 5, 3, 4]"
      ]
     },
     "execution_count": 3,
     "metadata": {},
     "output_type": "execute_result"
    }
   ],
   "source": [
    "meanderingArray(nums)"
   ]
  },
  {
   "cell_type": "markdown",
   "metadata": {},
   "source": [
    "# Find Pivot Index\n",
    "\n",
    "Given an array of integers nums, write a method that returns the \"pivot\" index of this array.\n",
    "\n",
    "We define the pivot index as the index where the sum of all the numbers to the left of the index is equal to the sum of all the numbers to the right of the index.\n",
    "\n",
    "If no such index exists, we should return -1. If there are multiple pivot indexes, you should return the left-most pivot index.\n",
    "\n",
    "Example 1:\n",
    "\n",
    "Input: nums = [1,7,3,6,5,6]  \n",
    "Output: 3  \n",
    "Explanation:  \n",
    "The sum of the numbers to the left of index 3 (nums[3] = 6) is equal to the sum of numbers to the right of index 3.  \n",
    "Also, 3 is the first index where this occurs.  \n",
    "\n",
    "Example 2:  \n",
    "\n",
    "Input: nums = [1,2,3]  \n",
    "Output: -1  \n",
    "Explanation:  \n",
    "There is no index that satisfies the conditions in the problem statement.  "
   ]
  },
  {
   "cell_type": "code",
   "execution_count": 4,
   "metadata": {},
   "outputs": [],
   "source": [
    "def pivotIndex(nums):\n",
    "    \n",
    "    if not nums:\n",
    "        return -1\n",
    "    \n",
    "    total = sum(nums)\n",
    "    \n",
    "    cumSum = 0\n",
    "    \n",
    "    for i, num in enumerate(nums):\n",
    "        \n",
    "        if cumSum * 2 + num == total:\n",
    "            return i\n",
    "        cumSum += num\n",
    "    \n",
    "    return -1"
   ]
  },
  {
   "cell_type": "code",
   "execution_count": 5,
   "metadata": {},
   "outputs": [],
   "source": [
    "nums = [1,7,3,6,5,6]"
   ]
  },
  {
   "cell_type": "code",
   "execution_count": 6,
   "metadata": {},
   "outputs": [
    {
     "data": {
      "text/plain": [
       "3"
      ]
     },
     "execution_count": 6,
     "metadata": {},
     "output_type": "execute_result"
    }
   ],
   "source": [
    "pivotIndex(nums)"
   ]
  },
  {
   "cell_type": "markdown",
   "metadata": {},
   "source": [
    "# K-diff Pairs in an Array\n",
    "\n",
    "Given an array of integers nums and an integer k, return the number of unique k-diff pairs in the array.\n",
    "\n",
    "A k-diff pair is an integer pair (nums[i], nums[j]), where the following are true:\n",
    "\n",
    "0 <= i, j < nums.length\n",
    "i != j\n",
    "|nums[i] - nums[j]| == k\n",
    "Notice that |val| denotes the absolute value of val.\n",
    "\n",
    "Example 1:\n",
    "\n",
    "Input: nums = [3,1,4,1,5], k = 2\n",
    "Output: 2\n",
    "Explanation: There are two 2-diff pairs in the array, (1, 3) and (3, 5).\n",
    "Although we have two 1s in the input, we should only return the number of unique pairs.\n",
    "Example 2:\n",
    "\n",
    "Input: nums = [1,2,3,4,5], k = 1\n",
    "Output: 4\n",
    "Explanation: There are four 1-diff pairs in the array, (1, 2), (2, 3), (3, 4) and (4, 5).\n",
    "Example 3:\n",
    "\n",
    "Input: nums = [1,3,1,5,4], k = 0\n",
    "Output: 1\n",
    "Explanation: There is one 0-diff pair in the array, (1, 1).\n",
    "Example 4:\n",
    "\n",
    "Input: nums = [1,2,4,4,3,3,0,9,2,3], k = 3\n",
    "Output: 2\n",
    "Example 5:\n",
    "\n",
    "Input: nums = [-1,-2,-3], k = 1\n",
    "Output: 2"
   ]
  },
  {
   "cell_type": "code",
   "execution_count": 7,
   "metadata": {},
   "outputs": [],
   "source": [
    "def findPairs(nums, k):\n",
    "    \n",
    "    count = 0\n",
    "    \n",
    "    if k == 0:\n",
    "        for num in set(nums):\n",
    "            if nums.count(num) >= 2:\n",
    "                count += 1\n",
    "    elif k >= 1:\n",
    "        for num in set(nums):\n",
    "            if num + k in nums:\n",
    "                count += 1\n",
    "    \n",
    "    return count"
   ]
  },
  {
   "cell_type": "code",
   "execution_count": 8,
   "metadata": {},
   "outputs": [],
   "source": [
    "nums = [1,3,1,5,4]\n",
    "k = 0"
   ]
  },
  {
   "cell_type": "code",
   "execution_count": 9,
   "metadata": {},
   "outputs": [
    {
     "data": {
      "text/plain": [
       "1"
      ]
     },
     "execution_count": 9,
     "metadata": {},
     "output_type": "execute_result"
    }
   ],
   "source": [
    "findPairs(nums, k)"
   ]
  },
  {
   "cell_type": "markdown",
   "metadata": {},
   "source": [
    "# Height Checker\n",
    "\n",
    "Students are asked to stand in non-decreasing order of heights for an annual photo.\n",
    "\n",
    "Return the minimum number of students that must move in order for all students to be standing in non-decreasing order of height.\n",
    "\n",
    "Notice that when a group of students is selected they can reorder in any possible way between themselves and the non selected students remain on their seats.\n",
    "\n",
    " \n",
    "\n",
    "Example 1:\n",
    "\n",
    "Input: heights = [1,1,4,2,1,3]  \n",
    "Output: 3  \n",
    "Explanation:   \n",
    "Current array : [1,1,4,2,1,3]  \n",
    "Target array  : [1,1,1,2,3,4]  \n",
    "On index 2 (0-based) we have 4 vs 1 so we have to move this student.  \n",
    "On index 4 (0-based) we have 1 vs 3 so we have to move this student.  \n",
    "On index 5 (0-based) we have 3 vs 4 so we have to move this student.  "
   ]
  },
  {
   "cell_type": "code",
   "execution_count": 10,
   "metadata": {},
   "outputs": [],
   "source": [
    "def heightChecker(heights):\n",
    "    \n",
    "    count = 0\n",
    "    for h1, h2 in zip(heights, sorted(heights)):\n",
    "        if h1 != h2:\n",
    "            count += 1\n",
    "    \n",
    "    return count"
   ]
  },
  {
   "cell_type": "code",
   "execution_count": 11,
   "metadata": {},
   "outputs": [],
   "source": [
    "heights = [1,1,4,2,1,3]"
   ]
  },
  {
   "cell_type": "code",
   "execution_count": 12,
   "metadata": {},
   "outputs": [
    {
     "data": {
      "text/plain": [
       "3"
      ]
     },
     "execution_count": 12,
     "metadata": {},
     "output_type": "execute_result"
    }
   ],
   "source": [
    "heightChecker(heights)"
   ]
  },
  {
   "cell_type": "markdown",
   "metadata": {},
   "source": [
    "# Coin Change\n",
    "\n",
    "You are given coins of different denominations and a total amount of money amount. Write a function to compute the fewest number of coins that you need to make up that amount. If that amount of money cannot be made up by any combination of the coins, return -1.\n",
    "\n",
    "You may assume that you have an infinite number of each kind of coin.\n",
    "\n",
    " \n",
    "\n",
    "Example 1:\n",
    "Input: coins = [1,2,5], amount = 11\n",
    "Output: 3\n",
    "Explanation: 11 = 5 + 5 + 1  \n",
    "\n",
    "Example 2:\n",
    "Input: coins = [2], amount = 3\n",
    "Output: -1  \n",
    "\n",
    "Example 3:\n",
    "Input: coins = [1], amount = 0\n",
    "Output: 0  \n",
    "\n",
    "Example 4:\n",
    "Input: coins = [1], amount = 1\n",
    "Output: 1  \n",
    "\n",
    "Example 5:\n",
    "Input: coins = [1], amount = 2\n",
    "Output: 2"
   ]
  },
  {
   "cell_type": "code",
   "execution_count": 13,
   "metadata": {},
   "outputs": [],
   "source": [
    "def coinChange(coins, amount):\n",
    "    \n",
    "    dp = [0] + [float('inf')] * amount\n",
    "    \n",
    "    for x in range(amount+1):\n",
    "        for coin in coins:\n",
    "            if x-coin>=0:\n",
    "                dp[x] = min(dp[x], dp[x-coin]+1)\n",
    "    \n",
    "    if dp[-1] != float('inf'):\n",
    "        return dp[-1]\n",
    "    else:\n",
    "        return -1"
   ]
  },
  {
   "cell_type": "code",
   "execution_count": 14,
   "metadata": {},
   "outputs": [],
   "source": [
    "def coinChange(coins, amount):\n",
    "\n",
    "    dp = [0] + [float('inf')] * amount\n",
    "\n",
    "    for coin in coins:\n",
    "        for x in range(coin, amount+1):\n",
    "            dp[x] = min(dp[x], dp[x-coin]+1)\n",
    "\n",
    "    if dp[-1] != float('inf'):\n",
    "        return dp[-1]\n",
    "    else:\n",
    "        return -1"
   ]
  },
  {
   "cell_type": "code",
   "execution_count": 15,
   "metadata": {},
   "outputs": [],
   "source": [
    "coins = [1,2,5]\n",
    "amount = 11"
   ]
  },
  {
   "cell_type": "code",
   "execution_count": 16,
   "metadata": {},
   "outputs": [
    {
     "data": {
      "text/plain": [
       "3"
      ]
     },
     "execution_count": 16,
     "metadata": {},
     "output_type": "execute_result"
    }
   ],
   "source": [
    "coinChange(coins, amount)"
   ]
  },
  {
   "cell_type": "markdown",
   "metadata": {},
   "source": [
    "# Palindromic Substrings\n",
    "\n",
    "Given a string, your task is to count how many palindromic substrings in this string.\n",
    "\n",
    "The substrings with different start indexes or end indexes are counted as different substrings even they consist of same characters.\n",
    "\n",
    "Example 1:\n",
    "Input: \"abc\"\n",
    "Output: 3\n",
    "Explanation: Three palindromic strings: \"a\", \"b\", \"c\".\n",
    " \n",
    "\n",
    "Example 2:\n",
    "Input: \"aaa\"\n",
    "Output: 6\n",
    "Explanation: Six palindromic strings: \"a\", \"a\", \"a\", \"aa\", \"aa\", \"aaa\"."
   ]
  },
  {
   "cell_type": "code",
   "execution_count": 17,
   "metadata": {},
   "outputs": [],
   "source": [
    "def countSubstrings(s):\n",
    "    \n",
    "    n = len(s)\n",
    "    dp = [ [0] * n for i in range(n) ]\n",
    "    \n",
    "    res = 0\n",
    "    \n",
    "    for i in range(n-1, -1, -1):\n",
    "        for j in range(i, n):\n",
    "            if j-i < 3:\n",
    "                dp[i][j] = s[i]==s[j]\n",
    "            else:\n",
    "                dp[i][j] = s[i]==s[j] and dp[i+1][j-1]\n",
    "            res += dp[i][j]\n",
    "    \n",
    "    return res"
   ]
  },
  {
   "cell_type": "code",
   "execution_count": 18,
   "metadata": {},
   "outputs": [],
   "source": [
    "s = \"abc\""
   ]
  },
  {
   "cell_type": "code",
   "execution_count": 19,
   "metadata": {},
   "outputs": [
    {
     "data": {
      "text/plain": [
       "3"
      ]
     },
     "execution_count": 19,
     "metadata": {},
     "output_type": "execute_result"
    }
   ],
   "source": [
    "countSubstrings(s)"
   ]
  },
  {
   "cell_type": "markdown",
   "metadata": {},
   "source": [
    "# Remove Duplicates from Sorted List\n",
    "\n",
    "Given a sorted linked list, delete all duplicates such that each element appear only once.\n",
    "\n",
    "Example 1:\n",
    "\n",
    "Input: 1->1->2\n",
    "Output: 1->2\n",
    "Example 2:\n",
    "\n",
    "Input: 1->1->2->3->3\n",
    "Output: 1->2->3"
   ]
  },
  {
   "cell_type": "code",
   "execution_count": 20,
   "metadata": {},
   "outputs": [],
   "source": [
    "# Definition for singly-linked list.\n",
    "class ListNode(object):\n",
    "    def __init__(self, val=0, next=None):\n",
    "        self.val = val\n",
    "        self.next = next"
   ]
  },
  {
   "cell_type": "code",
   "execution_count": 21,
   "metadata": {},
   "outputs": [],
   "source": [
    "def deleteDuplicates(head):\n",
    "    \n",
    "    cur = head\n",
    "    \n",
    "    while cur:\n",
    "        while cur.next and cur.next.val == cur.val:\n",
    "            cur.next = cur.next.next\n",
    "        cur = cur.next\n",
    "    \n",
    "    return head"
   ]
  },
  {
   "cell_type": "code",
   "execution_count": 22,
   "metadata": {},
   "outputs": [],
   "source": [
    "nums = [1,1,2,3,3]\n",
    "cur = head = ListNode()\n",
    "for num in nums:\n",
    "    cur.next = ListNode(num)\n",
    "    cur = cur.next\n",
    "\n",
    "head = head.next"
   ]
  },
  {
   "cell_type": "code",
   "execution_count": 23,
   "metadata": {},
   "outputs": [
    {
     "name": "stdout",
     "output_type": "stream",
     "text": [
      "1\n",
      "1\n",
      "2\n",
      "3\n",
      "3\n"
     ]
    }
   ],
   "source": [
    "cur = head\n",
    "while cur:\n",
    "    print(cur.val)\n",
    "    cur = cur.next"
   ]
  },
  {
   "cell_type": "code",
   "execution_count": 24,
   "metadata": {},
   "outputs": [],
   "source": [
    "new_head = deleteDuplicates(head)"
   ]
  },
  {
   "cell_type": "code",
   "execution_count": 25,
   "metadata": {},
   "outputs": [
    {
     "name": "stdout",
     "output_type": "stream",
     "text": [
      "1\n",
      "2\n",
      "3\n"
     ]
    }
   ],
   "source": [
    "cur = new_head\n",
    "while cur:\n",
    "    print(cur.val)\n",
    "    cur = cur.next"
   ]
  },
  {
   "cell_type": "markdown",
   "metadata": {},
   "source": [
    "# Robot Bounded in Circle\n",
    "\n",
    "On an infinite plane, a robot initially stands at (0, 0) and faces north.  The robot can receive one of three instructions:\n",
    "\n",
    "\"G\": go straight 1 unit;\n",
    "\"L\": turn 90 degrees to the left;\n",
    "\"R\": turn 90 degress to the right.\n",
    "The robot performs the instructions given in order, and repeats them forever.\n",
    "\n",
    "Return true if and only if there exists a circle in the plane such that the robot never leaves the circle.\n",
    "\n",
    " \n",
    "\n",
    "Example 1:\n",
    "\n",
    "Input: \"GGLLGG\"\n",
    "Output: true\n",
    "Explanation: \n",
    "The robot moves from (0,0) to (0,2), turns 180 degrees, and then returns to (0,0).\n",
    "When repeating these instructions, the robot remains in the circle of radius 2 centered at the origin.  \n",
    "\n",
    "Example 2:\n",
    "\n",
    "Input: \"GG\"\n",
    "Output: false\n",
    "Explanation: \n",
    "The robot moves north indefinitely.  \n",
    "\n",
    "Example 3:\n",
    "\n",
    "Input: \"GL\"\n",
    "Output: true\n",
    "Explanation: \n",
    "The robot moves from (0, 0) -> (0, 1) -> (-1, 1) -> (-1, 0) -> (0, 0) -> ..."
   ]
  },
  {
   "cell_type": "code",
   "execution_count": 29,
   "metadata": {},
   "outputs": [],
   "source": [
    "def isRobotBounded(instructions):\n",
    "    \n",
    "    x, y = 0, 0\n",
    "    di = (0,1)\n",
    "    \n",
    "    for instruction in instructions:\n",
    "        \n",
    "        if instruction == 'G':\n",
    "            x = x + di[0]\n",
    "            y = y + di[1]\n",
    "            \n",
    "        elif instruction == 'L':\n",
    "            di = (-di[1], di[0])\n",
    "        \n",
    "        elif instruction == 'R':\n",
    "            di = (di[1], -di[0])\n",
    "    \n",
    "    return (x == 0 and y == 0) or (di != (0,1))"
   ]
  },
  {
   "cell_type": "code",
   "execution_count": 30,
   "metadata": {},
   "outputs": [],
   "source": [
    "instructions = \"GLL\""
   ]
  },
  {
   "cell_type": "code",
   "execution_count": 31,
   "metadata": {},
   "outputs": [
    {
     "data": {
      "text/plain": [
       "True"
      ]
     },
     "execution_count": 31,
     "metadata": {},
     "output_type": "execute_result"
    }
   ],
   "source": [
    "isRobotBounded(instructions)"
   ]
  },
  {
   "cell_type": "markdown",
   "metadata": {},
   "source": [
    "# Minimum Window Substring\n",
    "\n",
    "Given two strings s and t, return the minimum window in s which will contain all the characters in t. If there is no such window in s that covers all characters in t, return the empty string \"\".\n",
    "\n",
    "Note that If there is such a window, it is guaranteed that there will always be only one unique minimum window in s.\n",
    "\n",
    " \n",
    "\n",
    "Example 1:  \n",
    "\n",
    "Input: s = \"ADOBECODEBANC\", t = \"ABC\"\n",
    "Output: \"BANC\"\n",
    "\n",
    "Example 2:  \n",
    "\n",
    "Input: s = \"a\", t = \"a\"\n",
    "Output: \"a\""
   ]
  },
  {
   "cell_type": "code",
   "execution_count": 56,
   "metadata": {},
   "outputs": [],
   "source": [
    "import collections"
   ]
  },
  {
   "cell_type": "code",
   "execution_count": 57,
   "metadata": {},
   "outputs": [],
   "source": [
    "def minWindow(s, t):\n",
    "    \n",
    "    need = collections.Counter(t)            #hash table to store char frequency\n",
    "    missing = len(t)                         #total number of chars we care\n",
    "    start, end = 0, 0\n",
    "    \n",
    "    i = 0\n",
    "    for j, char in enumerate(s, 1):          #index j from 1\n",
    "        \n",
    "        if need[char] > 0:\n",
    "            missing -= 1\n",
    "        need[char] -= 1\n",
    "        \n",
    "        if missing == 0:                     #match all chars\n",
    "            \n",
    "            while i < j and need[s[i]] < 0:  #remove chars to find the real start\n",
    "                need[s[i]] += 1\n",
    "                i += 1\n",
    "            \n",
    "            if end == 0 or j-i < end-start:  #update window\n",
    "                start, end = i, j\n",
    "            \n",
    "            need[s[i]] += 1                  #make sure the first appearing char satisfies need[char]>0\n",
    "            missing += 1                     #we missed this first char, so add missing by 1\n",
    "            i += 1                           #update i to start+1 for next window\n",
    "    \n",
    "    return s[start:end]"
   ]
  },
  {
   "cell_type": "code",
   "execution_count": 58,
   "metadata": {},
   "outputs": [],
   "source": [
    "s = s = \"ADOBECODEBANC\"\n",
    "t = \"ABC\" "
   ]
  },
  {
   "cell_type": "code",
   "execution_count": 59,
   "metadata": {},
   "outputs": [
    {
     "data": {
      "text/plain": [
       "'BANC'"
      ]
     },
     "execution_count": 59,
     "metadata": {},
     "output_type": "execute_result"
    }
   ],
   "source": [
    "minWindow(s, t)"
   ]
  },
  {
   "cell_type": "markdown",
   "metadata": {},
   "source": [
    "# Advantage Shuffle\n",
    "\n",
    "Given two arrays A and B of equal size, the advantage of A with respect to B is the number of indices i for which A[i] > B[i].\n",
    "\n",
    "Return any permutation of A that maximizes its advantage with respect to B.\n",
    "\n",
    " \n",
    "\n",
    "Example 1:  \n",
    "\n",
    "Input: A = [2,7,11,15], B = [1,10,4,11]\n",
    "Output: [2,11,7,15]\n",
    "\n",
    "Example 2:  \n",
    "\n",
    "Input: A = [12,24,8,32], B = [13,25,32,11]\n",
    "Output: [24,32,8,12]"
   ]
  },
  {
   "cell_type": "code",
   "execution_count": 60,
   "metadata": {},
   "outputs": [],
   "source": [
    "def advantageCount(A, B):\n",
    "    \n",
    "    res = [None] * len(A)\n",
    "    B = collections.deque(sorted([(b, i) for i, b in enumerate(B)]))\n",
    "    \n",
    "    for a in sorted(A):\n",
    "    \n",
    "        if a > B[0][0]:   \n",
    "            res[B.popleft()[1]] = a\n",
    "        else:   \n",
    "            res[B.pop()[1]] = a\n",
    "\n",
    "    return res"
   ]
  },
  {
   "cell_type": "code",
   "execution_count": 61,
   "metadata": {},
   "outputs": [],
   "source": [
    "A = [2,7,11,15]\n",
    "B = [1,10,4,11] "
   ]
  },
  {
   "cell_type": "code",
   "execution_count": 62,
   "metadata": {
    "scrolled": true
   },
   "outputs": [
    {
     "data": {
      "text/plain": [
       "[2, 11, 7, 15]"
      ]
     },
     "execution_count": 62,
     "metadata": {},
     "output_type": "execute_result"
    }
   ],
   "source": [
    "advantageCount(A, B)"
   ]
  },
  {
   "cell_type": "markdown",
   "metadata": {},
   "source": [
    "# String Compression\n",
    "\n",
    "Given an array of characters chars, compress it using the following algorithm:\n",
    "\n",
    "Begin with an empty string s. For each group of consecutive repeating characters in chars:\n",
    "\n",
    "If the group's length is 1, append the character to s.\n",
    "Otherwise, append the character followed by the group's length.\n",
    "The compressed string s should not be returned separately, but instead be stored in the input character array chars. Note that group lengths that are 10 or longer will be split into multiple characters in chars.\n",
    "\n",
    "After you are done modifying the input array, return the new length of the array.\n",
    "\n",
    " \n",
    "Follow up:\n",
    "Could you solve it using only O(1) extra space?\n",
    "\n",
    " \n",
    "\n",
    "Example 1:  \n",
    "Input: chars = [\"a\",\"a\",\"b\",\"b\",\"c\",\"c\",\"c\"]\n",
    "Output: Return 6, and the first 6 characters of the input array should be: [\"a\",\"2\",\"b\",\"2\",\"c\",\"3\"]\n",
    "Explanation: The groups are \"aa\", \"bb\", and \"ccc\". This compresses to \"a2b2c3\".\n",
    "\n",
    "Example 2:  \n",
    "Input: chars = [\"a\"]\n",
    "Output: Return 1, and the first character of the input array should be: [\"a\"]\n",
    "Explanation: The only group is \"a\", which remains uncompressed since it's a single character.\n",
    "\n",
    "Example 3:  \n",
    "Input: chars = [\"a\",\"b\",\"b\",\"b\",\"b\",\"b\",\"b\",\"b\",\"b\",\"b\",\"b\",\"b\",\"b\"]\n",
    "Output: Return 4, and the first 4 characters of the input array should be: [\"a\",\"b\",\"1\",\"2\"].\n",
    "Explanation: The groups are \"a\" and \"bbbbbbbbbbbb\". This compresses to \"ab12\".\n",
    "\n",
    "Example 4:  \n",
    "Input: chars = [\"a\",\"a\",\"a\",\"b\",\"b\",\"a\",\"a\"]\n",
    "Output: Return 6, and the first 6 characters of the input array should be: [\"a\",\"3\",\"b\",\"2\",\"a\",\"2\"].\n",
    "Explanation: The groups are \"aaa\", \"bb\", and \"aa\". This compresses to \"a3b2a2\". Note that each group is independent even if two groups have the same character."
   ]
  },
  {
   "cell_type": "code",
   "execution_count": 66,
   "metadata": {},
   "outputs": [],
   "source": [
    "def compress(chars):\n",
    "    \n",
    "        walker, runner = 0, 0\n",
    "        \n",
    "        while runner < len(chars):\n",
    "\n",
    "            chars[walker] = chars[runner]\n",
    "            count = 1\n",
    "\n",
    "            while runner + 1 < len(chars) and chars[runner] == chars[runner+1]:\n",
    "                runner += 1\n",
    "                count += 1\n",
    "\n",
    "            if count > 1:\n",
    "                for c in str(count):\n",
    "                    walker += 1\n",
    "                    chars[walker] = c\n",
    "            \n",
    "            runner += 1\n",
    "            walker += 1\n",
    "        \n",
    "        return walker"
   ]
  },
  {
   "cell_type": "code",
   "execution_count": 67,
   "metadata": {},
   "outputs": [],
   "source": [
    "chars = [\"a\",\"a\",\"a\",\"b\",\"b\",\"a\",\"a\"]"
   ]
  },
  {
   "cell_type": "code",
   "execution_count": 68,
   "metadata": {},
   "outputs": [
    {
     "data": {
      "text/plain": [
       "6"
      ]
     },
     "execution_count": 68,
     "metadata": {},
     "output_type": "execute_result"
    }
   ],
   "source": [
    "compress(chars)"
   ]
  },
  {
   "cell_type": "markdown",
   "metadata": {},
   "source": [
    "# Friend Circles\n",
    "\n",
    "There are N students in a class. Some of them are friends, while some are not. Their friendship is transitive in nature. For example, if A is a direct friend of B, and B is a direct friend of C, then A is an indirect friend of C. And we defined a friend circle is a group of students who are direct or indirect friends.\n",
    "\n",
    "Given a N*N matrix M representing the friend relationship between students in the class. If M[i][j] = 1, then the ith and jth students are direct friends with each other, otherwise not. And you have to output the total number of friend circles among all the students.\n",
    "\n",
    "Example 1:  \n",
    "Input: \n",
    "[[1,1,0],\n",
    " [1,1,0],\n",
    " [0,0,1]]\n",
    "Output: 2\n",
    "Explanation:The 0th and 1st students are direct friends, so they are in a friend circle. \n",
    "The 2nd student himself is in a friend circle. So return 2.\n",
    " \n",
    "\n",
    "Example 2:  \n",
    "Input: \n",
    "[[1,1,0],\n",
    " [1,1,1],\n",
    " [0,1,1]]\n",
    "Output: 1\n",
    "Explanation:The 0th and 1st students are direct friends, the 1st and 2nd students are direct friends, \n",
    "so the 0th and 2nd students are indirect friends. All of them are in the same friend circle, so return 1.\n"
   ]
  },
  {
   "cell_type": "code",
   "execution_count": 142,
   "metadata": {},
   "outputs": [],
   "source": [
    "def findCircleNum(M):\n",
    "    \n",
    "    n = len(M)\n",
    "    visited = set()\n",
    "    count = 0\n",
    "    \n",
    "    def DFS(i):\n",
    "        for j in range(n):\n",
    "            if (M[i][j] == 1) and (j not in visited):\n",
    "                visited.add(j)\n",
    "                DFS(j)\n",
    "    \n",
    "    for i in range(n):\n",
    "        if i not in visited:\n",
    "            DFS(i)\n",
    "            count += 1\n",
    "    \n",
    "    return count"
   ]
  },
  {
   "cell_type": "code",
   "execution_count": 143,
   "metadata": {},
   "outputs": [],
   "source": [
    "M = [[1,1,0], [1,1,0], [0,0,1]]"
   ]
  },
  {
   "cell_type": "code",
   "execution_count": 144,
   "metadata": {},
   "outputs": [
    {
     "data": {
      "text/plain": [
       "2"
      ]
     },
     "execution_count": 144,
     "metadata": {},
     "output_type": "execute_result"
    }
   ],
   "source": [
    "findCircleNum(M)"
   ]
  },
  {
   "cell_type": "markdown",
   "metadata": {},
   "source": [
    "# Maximum Substring (Last Substring in Lexicographical Order)\n",
    "\n",
    "Given a string s, return the last substring of s in lexicographical order.\n",
    "\n",
    "Example 1:  \n",
    "Input: \"abab\"\n",
    "Output: \"bab\"\n",
    "Explanation: The substrings are [\"a\", \"ab\", \"aba\", \"abab\", \"b\", \"ba\", \"bab\"]. The lexicographically maximum substring is \"bab\".\n",
    "\n",
    "Example 2:  \n",
    "Input: \"leetcode\"\n",
    "Output: \"tcode\""
   ]
  },
  {
   "cell_type": "code",
   "execution_count": 152,
   "metadata": {},
   "outputs": [],
   "source": [
    "def lastSubstring(s):\n",
    "    \n",
    "    n = len(s)\n",
    "    i, j = 0, 1\n",
    "    k = 0\n",
    "    \n",
    "    while j+k < n:\n",
    "        \n",
    "        if s[i+k] == s[j+k]:\n",
    "            k += 1\n",
    "            \n",
    "        elif s[i+k] < s[j+k]:\n",
    "            i = j\n",
    "            j += 1\n",
    "            k = 0\n",
    "        \n",
    "        elif s[i+k] > s[j+k]:\n",
    "            j = j+k+1\n",
    "            k = 0\n",
    "            \n",
    "    return s[i:]"
   ]
  },
  {
   "cell_type": "code",
   "execution_count": 153,
   "metadata": {},
   "outputs": [],
   "source": [
    "s = \"leetcode\" "
   ]
  },
  {
   "cell_type": "code",
   "execution_count": 154,
   "metadata": {},
   "outputs": [
    {
     "data": {
      "text/plain": [
       "'tcode'"
      ]
     },
     "execution_count": 154,
     "metadata": {},
     "output_type": "execute_result"
    }
   ],
   "source": [
    "lastSubstring(s)"
   ]
  },
  {
   "cell_type": "markdown",
   "metadata": {},
   "source": [
    "# Reaching Points\n",
    "\n",
    "A move consists of taking a point (x, y) and transforming it to either (x, x+y) or (x+y, y).\n",
    "\n",
    "Given a starting point (sx, sy) and a target point (tx, ty), return True if and only if a sequence of moves exists to transform the point (sx, sy) to (tx, ty). Otherwise, return False.\n",
    "\n",
    "Examples:  \n",
    "Input: sx = 1, sy = 1, tx = 3, ty = 5\n",
    "Output: True  \n",
    "Explanation:\n",
    "One series of moves that transforms the starting point to the target is:\n",
    "(1, 1) -> (1, 2)\n",
    "(1, 2) -> (3, 2)\n",
    "(3, 2) -> (3, 5)\n",
    "\n",
    "Input: sx = 1, sy = 1, tx = 2, ty = 2\n",
    "Output: False\n",
    "\n",
    "Input: sx = 1, sy = 1, tx = 1, ty = 1\n",
    "Output: True"
   ]
  },
  {
   "cell_type": "code",
   "execution_count": 160,
   "metadata": {
    "scrolled": true
   },
   "outputs": [],
   "source": [
    "# top-down recursive algo\n",
    "def reachingPoints(sx, sy, tx, ty):\n",
    "    \n",
    "    if sx == tx and sy == ty:\n",
    "        return True\n",
    "    \n",
    "    if sx > tx or sy > ty:\n",
    "        return False\n",
    "    \n",
    "    return reachingPoints(sx+sy, sy, tx, ty) or reachingPoints(sx, sy+sx, tx, ty)"
   ]
  },
  {
   "cell_type": "code",
   "execution_count": 161,
   "metadata": {
    "scrolled": true
   },
   "outputs": [
    {
     "data": {
      "text/plain": [
       "True"
      ]
     },
     "execution_count": 161,
     "metadata": {},
     "output_type": "execute_result"
    }
   ],
   "source": [
    "reachingPoints(1,1,3,5)"
   ]
  },
  {
   "cell_type": "code",
   "execution_count": 162,
   "metadata": {},
   "outputs": [],
   "source": [
    "# bottom-up optimization algo\n",
    "def reachingPoints(sx, sy, tx, ty):\n",
    "    \n",
    "    while sx < tx and sy < ty:\n",
    "        if tx < ty:\n",
    "            ty = ty % tx\n",
    "        else:\n",
    "            tx = tx % ty\n",
    "    \n",
    "    if sx == tx and sy <= ty and (ty-sy)%sx==0:\n",
    "        return True\n",
    "    elif sy == ty and sx <= tx and (tx-sx)%sy==0:\n",
    "        return True\n",
    "    else:\n",
    "        return False"
   ]
  },
  {
   "cell_type": "code",
   "execution_count": 163,
   "metadata": {},
   "outputs": [
    {
     "data": {
      "text/plain": [
       "False"
      ]
     },
     "execution_count": 163,
     "metadata": {},
     "output_type": "execute_result"
    }
   ],
   "source": [
    "reachingPoints(1,1,2,2)"
   ]
  },
  {
   "cell_type": "markdown",
   "metadata": {},
   "source": [
    "# Rotate String\n",
    "\n",
    "We are given two strings, A and B.\n",
    "\n",
    "A shift on A consists of taking string A and moving the leftmost character to the rightmost position. For example, if A = 'abcde', then it will be 'bcdea' after one shift on A. Return True if and only if A can become B after some number of shifts on A.\n",
    "\n",
    "Example 1:\n",
    "Input: A = 'abcde', B = 'cdeab'\n",
    "Output: true\n",
    "\n",
    "Example 2:\n",
    "Input: A = 'abcde', B = 'abced'\n",
    "Output: false"
   ]
  },
  {
   "cell_type": "code",
   "execution_count": 168,
   "metadata": {},
   "outputs": [],
   "source": [
    "def rotateString(A, B):\n",
    "\n",
    "    if len(A) != len(B):\n",
    "        return False\n",
    "    if len(A) == 0:\n",
    "        return True\n",
    "\n",
    "    for i in range(len(A)):\n",
    "\n",
    "        A = A[1:] + A[0]\n",
    "        if A == B:\n",
    "            return True\n",
    "\n",
    "    return False"
   ]
  },
  {
   "cell_type": "code",
   "execution_count": 170,
   "metadata": {},
   "outputs": [],
   "source": [
    "A = 'abcde'\n",
    "B = 'cdeab'"
   ]
  },
  {
   "cell_type": "code",
   "execution_count": 171,
   "metadata": {},
   "outputs": [
    {
     "data": {
      "text/plain": [
       "True"
      ]
     },
     "execution_count": 171,
     "metadata": {},
     "output_type": "execute_result"
    }
   ],
   "source": [
    "rotateString(A, B)"
   ]
  },
  {
   "cell_type": "markdown",
   "metadata": {},
   "source": [
    "# N-Queens II\n",
    "\n",
    "The n-queens puzzle is the problem of placing n queens on an n x n chessboard such that no two queens attack each other.\n",
    "\n",
    "Given an integer n, return the number of distinct solutions to the n-queens puzzle.\n",
    "\n",
    "Example 1:  \n",
    "Input: n = 4\n",
    "Output: 2\n",
    "Explanation: There are two distinct solutions to the 4-queens puzzle as shown.\n",
    "\n",
    "Example 2:  \n",
    "Input: n = 1\n",
    "Output: 1"
   ]
  },
  {
   "cell_type": "code",
   "execution_count": 174,
   "metadata": {},
   "outputs": [],
   "source": [
    "def totalNQueens(n):\n",
    "    \n",
    "    diag1 = set()\n",
    "    diag2 = set()\n",
    "    cols = set()\n",
    "    \n",
    "    def backtrack(row, n, diag1, diag2, cols):\n",
    "        if row == n:\n",
    "            return 1\n",
    "        \n",
    "        count = 0\n",
    "        \n",
    "        for col in range(n):\n",
    "            if (row+col in diag1) or (row-col in diag2) or (col in cols):\n",
    "                continue\n",
    "            \n",
    "            diag1.add(row+col)\n",
    "            diag2.add(row-col)\n",
    "            cols.add(col)\n",
    "            \n",
    "            count += backtrack(row+1, n, diag1, diag2, cols)\n",
    "            \n",
    "            diag1.remove(row+col)\n",
    "            diag2.remove(row-col)\n",
    "            cols.remove(col)\n",
    "        \n",
    "        return count\n",
    "    \n",
    "    return backtrack(0, n, diag1, diag2, cols)"
   ]
  },
  {
   "cell_type": "code",
   "execution_count": 180,
   "metadata": {},
   "outputs": [
    {
     "data": {
      "text/plain": [
       "2"
      ]
     },
     "execution_count": 180,
     "metadata": {},
     "output_type": "execute_result"
    }
   ],
   "source": [
    "totalNQueens(4)"
   ]
  },
  {
   "cell_type": "markdown",
   "metadata": {},
   "source": [
    "# Minimum Size Subarray Sum\n",
    "\n",
    "Given an array of n positive integers and a positive integer s, find the minimal length of a contiguous subarray of which the sum ≥ s. If there isn't one, return 0 instead.\n",
    "\n",
    "Example:  \n",
    "Input: s = 7, nums = [2,3,1,2,4,3]  \n",
    "Output: 2  \n",
    "Explanation: the subarray [4,3] has the minimal length under the problem constraint."
   ]
  },
  {
   "cell_type": "code",
   "execution_count": 181,
   "metadata": {},
   "outputs": [],
   "source": [
    "def minSubArrayLen(s, nums):\n",
    "    \n",
    "    n = len(nums)\n",
    "    i = 0\n",
    "    res = n + 1\n",
    "    \n",
    "    for j in range(n):\n",
    "        s -= nums[j]\n",
    "        \n",
    "        while s <= 0:\n",
    "            res = min(res, j-i+1)\n",
    "            s += nums[i]\n",
    "            i += 1\n",
    "        \n",
    "    return res%(n+1)"
   ]
  },
  {
   "cell_type": "code",
   "execution_count": 182,
   "metadata": {},
   "outputs": [],
   "source": [
    "s = 7\n",
    "nums = [2,3,1,2,4,3]"
   ]
  },
  {
   "cell_type": "code",
   "execution_count": 183,
   "metadata": {},
   "outputs": [
    {
     "data": {
      "text/plain": [
       "2"
      ]
     },
     "execution_count": 183,
     "metadata": {},
     "output_type": "execute_result"
    }
   ],
   "source": [
    "minSubArrayLen(s, nums)"
   ]
  },
  {
   "cell_type": "markdown",
   "metadata": {},
   "source": [
    "# Pairs of Songs With Total Durations Divisible by 60\n",
    "\n",
    "In a list of songs, the i-th song has a duration of time[i] seconds. \n",
    "\n",
    "Return the number of pairs of songs for which their total duration in seconds is divisible by 60.  Formally, we want the number of indices i, j such that i < j with (time[i] + time[j]) % 60 == 0.\n",
    "\n",
    "Example 1:  \n",
    "Input: [30,20,150,100,40]\n",
    "Output: 3\n",
    "Explanation: Three pairs have a total duration divisible by 60:\n",
    "(time[0] = 30, time[2] = 150): total duration 180\n",
    "(time[1] = 20, time[3] = 100): total duration 120\n",
    "(time[1] = 20, time[4] = 40): total duration 60\n",
    "\n",
    "Example 2:  \n",
    "Input: [60,60,60]\n",
    "Output: 3\n",
    "Explanation: All three pairs have a total duration of 120, which is divisible by 60."
   ]
  },
  {
   "cell_type": "code",
   "execution_count": 73,
   "metadata": {},
   "outputs": [],
   "source": [
    "def numPairsDivisibleBy60(time):\n",
    "    \n",
    "    c = [0]*60\n",
    "    res = 0\n",
    "    \n",
    "    for t in time:\n",
    "        res += c[-t%60]\n",
    "        c[t%60] += 1\n",
    "        \n",
    "    return res"
   ]
  },
  {
   "cell_type": "code",
   "execution_count": 74,
   "metadata": {},
   "outputs": [],
   "source": [
    "def numPairsDivisibleBy60(time):\n",
    "    \n",
    "    c = [0]*60\n",
    "    res = 0\n",
    "    \n",
    "    for t in time:\n",
    "        if t%60 == 0:\n",
    "            res += c[0]\n",
    "        else:\n",
    "            res += c[60 - t%60]\n",
    "        c[t%60] += 1\n",
    "    \n",
    "    return res"
   ]
  },
  {
   "cell_type": "code",
   "execution_count": 75,
   "metadata": {},
   "outputs": [],
   "source": [
    "time = [30,20,150,100,40] "
   ]
  },
  {
   "cell_type": "code",
   "execution_count": 76,
   "metadata": {},
   "outputs": [
    {
     "data": {
      "text/plain": [
       "3"
      ]
     },
     "execution_count": 76,
     "metadata": {},
     "output_type": "execute_result"
    }
   ],
   "source": [
    "numPairsDivisibleBy60(time)"
   ]
  },
  {
   "cell_type": "markdown",
   "metadata": {},
   "source": [
    "# Rotate Array\n",
    "\n",
    "Given an array, rotate the array to the right by k steps, where k is non-negative.\n",
    "\n",
    "Follow up:\n",
    "\n",
    "Try to come up as many solutions as you can, there are at least 3 different ways to solve this problem.\n",
    "Could you do it in-place with O(1) extra space?\n",
    " \n",
    "\n",
    "Example 1:  \n",
    "Input: nums = [1,2,3,4,5,6,7], k = 3\n",
    "Output: [5,6,7,1,2,3,4]\n",
    "Explanation:\n",
    "rotate 1 steps to the right: [7,1,2,3,4,5,6]\n",
    "rotate 2 steps to the right: [6,7,1,2,3,4,5]\n",
    "rotate 3 steps to the right: [5,6,7,1,2,3,4]\n",
    "\n",
    "Example 2:  \n",
    "Input: nums = [-1,-100,3,99], k = 2\n",
    "Output: [3,99,-1,-100]\n",
    "Explanation: \n",
    "rotate 1 steps to the right: [99,-1,-100,3]\n",
    "rotate 2 steps to the right: [3,99,-1,-100]"
   ]
  },
  {
   "cell_type": "code",
   "execution_count": 199,
   "metadata": {},
   "outputs": [],
   "source": [
    "def rotate(nums, k):\n",
    "    \n",
    "    n = len(nums)\n",
    "    k %= n\n",
    "    \n",
    "    nums[:] = nums[n-k:] + nums[:n-k]"
   ]
  },
  {
   "cell_type": "code",
   "execution_count": 200,
   "metadata": {},
   "outputs": [],
   "source": [
    "nums = [1,2,3,4,5,6,7]\n",
    "k = 3"
   ]
  },
  {
   "cell_type": "code",
   "execution_count": 202,
   "metadata": {},
   "outputs": [],
   "source": [
    "rotate(nums, k)"
   ]
  },
  {
   "cell_type": "code",
   "execution_count": 203,
   "metadata": {},
   "outputs": [
    {
     "data": {
      "text/plain": [
       "[5, 6, 7, 1, 2, 3, 4]"
      ]
     },
     "execution_count": 203,
     "metadata": {},
     "output_type": "execute_result"
    }
   ],
   "source": [
    "nums"
   ]
  },
  {
   "cell_type": "markdown",
   "metadata": {},
   "source": [
    "# Spiral Matrix\n",
    "\n",
    "Given an m x n matrix, return all elements of the matrix in spiral order.\n",
    "\n",
    "Example 1:  \n",
    "Input: matrix = [[1,2,3],[4,5,6],[7,8,9]]  \n",
    "Output: [1,2,3,6,9,8,7,4,5]  \n",
    "\n",
    "Example 2:  \n",
    "Input: matrix = [[1,2,3,4],[5,6,7,8],[9,10,11,12]]  \n",
    "Output: [1,2,3,4,8,12,11,10,9,5,6,7]  "
   ]
  },
  {
   "cell_type": "code",
   "execution_count": 364,
   "metadata": {},
   "outputs": [],
   "source": [
    "# general idea\n",
    "def spiralOrder(matrix):\n",
    "\n",
    "    if matrix == []:\n",
    "      return matrix\n",
    "\n",
    "    l = 0\n",
    "    r = len(matrix[0]) - 1\n",
    "    t = 0\n",
    "    b = len(matrix) - 1\n",
    "\n",
    "    ret = []\n",
    "    while l < r and t < b:\n",
    "        # top\n",
    "        for i in range(l, r):\n",
    "            ret.append(matrix[t][i])\n",
    "        # right\n",
    "        for i in range(t, b):\n",
    "            ret.append(matrix[i][r])\n",
    "        # bottom\n",
    "        for i in range(r, l, -1):\n",
    "            ret.append(matrix[b][i])\n",
    "        # left\n",
    "        for i in range(b, t, -1):\n",
    "            ret.append(matrix[i][l])\n",
    "\n",
    "        l += 1\n",
    "        r -= 1 \n",
    "        t += 1\n",
    "        b -= 1\n",
    "\n",
    "    # single square\n",
    "    if l == r and t == b:\n",
    "        ret.append(matrix[t][l])\n",
    "    # vertical line\n",
    "    elif l == r:\n",
    "        for i in range(t, b + 1):\n",
    "            ret.append(matrix[i][l])\n",
    "    # horizontal line\n",
    "    elif t == b:\n",
    "        for i in range(l, r + 1):\n",
    "            ret.append(matrix[t][i])\n",
    "    return ret"
   ]
  },
  {
   "cell_type": "code",
   "execution_count": 363,
   "metadata": {},
   "outputs": [],
   "source": [
    "# crazy python function\n",
    "def spiralOrder(matrix):\n",
    "    \n",
    "    res = []\n",
    "    \n",
    "    while matrix:\n",
    "        res.extend(matrix.pop(0))\n",
    "        matrix = [*zip(*matrix)][::-1]\n",
    "        \n",
    "    return res"
   ]
  },
  {
   "cell_type": "code",
   "execution_count": 237,
   "metadata": {},
   "outputs": [],
   "source": [
    "matrix = [[1,2,3,4],[5,6,7,8],[9,10,11,12]]"
   ]
  },
  {
   "cell_type": "code",
   "execution_count": 238,
   "metadata": {},
   "outputs": [
    {
     "data": {
      "text/plain": [
       "[1, 2, 3, 4, 8, 12, 11, 10, 9, 5, 6, 7]"
      ]
     },
     "execution_count": 238,
     "metadata": {},
     "output_type": "execute_result"
    }
   ],
   "source": [
    "spiralOrder(matrix)"
   ]
  },
  {
   "cell_type": "markdown",
   "metadata": {},
   "source": [
    "# Min Cost Climbing Stairs\n",
    "\n",
    "On a staircase, the i-th step has some non-negative cost cost[i] assigned (0 indexed).\n",
    "\n",
    "Once you pay the cost, you can either climb one or two steps. You need to find minimum cost to reach the top of the floor, and you can either start from the step with index 0, or the step with index 1.\n",
    "\n",
    "Example 1:  \n",
    "Input: cost = [10, 15, 20]  \n",
    "Output: 15  \n",
    "Explanation: Cheapest is start on cost[1], pay that cost and go to the top.  \n",
    "\n",
    "Example 2:  \n",
    "Input: cost = [1, 100, 1, 1, 1, 100, 1, 1, 100, 1]  \n",
    "Output: 6  \n",
    "Explanation: Cheapest is start on cost[0], and only step on 1s, skipping cost[3].  "
   ]
  },
  {
   "cell_type": "code",
   "execution_count": 240,
   "metadata": {},
   "outputs": [],
   "source": [
    "def minCostClimbingStairs(cost):\n",
    "    \n",
    "    if not cost:\n",
    "        return 0\n",
    "    \n",
    "    n = len(cost)\n",
    "    dp = [0] * n\n",
    "    \n",
    "    dp[0] = cost[0]\n",
    "    if n >= 2:\n",
    "        dp[1] = cost[1]\n",
    "        \n",
    "    for i in range(2, n):\n",
    "        dp[i] = min(dp[i-1], dp[i-2]) + cost[i]\n",
    "    \n",
    "    return min(dp[-1], dp[-2])"
   ]
  },
  {
   "cell_type": "code",
   "execution_count": 241,
   "metadata": {},
   "outputs": [],
   "source": [
    "cost = [1, 100, 1, 1, 1, 100, 1, 1, 100, 1]"
   ]
  },
  {
   "cell_type": "code",
   "execution_count": 242,
   "metadata": {},
   "outputs": [
    {
     "data": {
      "text/plain": [
       "6"
      ]
     },
     "execution_count": 242,
     "metadata": {},
     "output_type": "execute_result"
    }
   ],
   "source": [
    "minCostClimbingStairs(cost)"
   ]
  },
  {
   "cell_type": "markdown",
   "metadata": {},
   "source": [
    "# Maximum Average Subarray\n",
    "\n",
    "Given an array consisting of n integers, find the contiguous subarray of given length k that has the maximum average value. And you need to output the maximum average value.\n",
    "\n",
    "Example 1:  \n",
    "Input: [1,12,-5,-6,50,3], k = 4  \n",
    "Output: 12.75  \n",
    "Explanation: Maximum average is (12-5-6+50)/4 = 51/4 = 12.75  "
   ]
  },
  {
   "cell_type": "code",
   "execution_count": 265,
   "metadata": {},
   "outputs": [],
   "source": [
    "def findMaxAverage(nums,k):\n",
    "    \n",
    "    if not nums or k == 0:\n",
    "        return 0\n",
    "\n",
    "    runSum = sum(nums[:k])\n",
    "    ans = runSum / k\n",
    "    \n",
    "    for i in range(k, len(nums)):\n",
    "        runSum = runSum + nums[i] - nums[i-k]\n",
    "        ans = max(ans, runSum / k)\n",
    "        \n",
    "    return ans"
   ]
  },
  {
   "cell_type": "code",
   "execution_count": 266,
   "metadata": {},
   "outputs": [],
   "source": [
    "nums = [1,12,-5,-6,50,3]\n",
    "k = 4"
   ]
  },
  {
   "cell_type": "code",
   "execution_count": 267,
   "metadata": {},
   "outputs": [
    {
     "data": {
      "text/plain": [
       "12.75"
      ]
     },
     "execution_count": 267,
     "metadata": {},
     "output_type": "execute_result"
    }
   ],
   "source": [
    "findMaxAverage(nums, k)"
   ]
  },
  {
   "cell_type": "markdown",
   "metadata": {},
   "source": [
    "# Best Time to Buy and Sell Stock\n",
    "\n",
    "Say you have an array for which the ith element is the price of a given stock on day i.\n",
    "\n",
    "If you were only permitted to complete at most one transaction (i.e., buy one and sell one share of the stock), design an algorithm to find the maximum profit.\n",
    "\n",
    "Note that you cannot sell a stock before you buy one.\n",
    "\n",
    "Example 1:  \n",
    "Input: [7,1,5,3,6,4]\n",
    "Output: 5\n",
    "Explanation: Buy on day 2 (price = 1) and sell on day 5 (price = 6), profit = 6-1 = 5.\n",
    "             Not 7-1 = 6, as selling price needs to be larger than buying price.\n",
    "\n",
    "Example 2:  \n",
    "Input: [7,6,4,3,1]\n",
    "Output: 0\n",
    "Explanation: In this case, no transaction is done, i.e. max profit = 0."
   ]
  },
  {
   "cell_type": "code",
   "execution_count": 243,
   "metadata": {},
   "outputs": [],
   "source": [
    "def maxProfit(prices):\n",
    "\n",
    "    minprice = float('inf')\n",
    "    maxprofit = 0\n",
    "\n",
    "    for price in prices:\n",
    "        if price < minprice:\n",
    "            minprice = price\n",
    "        else:\n",
    "            profit = price - minprice\n",
    "            if profit > maxprofit:\n",
    "                maxprofit = profit\n",
    "\n",
    "    return maxprofit"
   ]
  },
  {
   "cell_type": "code",
   "execution_count": 244,
   "metadata": {},
   "outputs": [],
   "source": [
    "prices = [7,1,5,3,6,4]"
   ]
  },
  {
   "cell_type": "code",
   "execution_count": 245,
   "metadata": {},
   "outputs": [
    {
     "data": {
      "text/plain": [
       "5"
      ]
     },
     "execution_count": 245,
     "metadata": {},
     "output_type": "execute_result"
    }
   ],
   "source": [
    "maxProfit(prices)"
   ]
  },
  {
   "cell_type": "markdown",
   "metadata": {},
   "source": [
    "# High Five\n",
    "\n",
    "Given a list of scores of different students, return the average score of each student’s top five scores in the order of each student’s id.\n",
    "\n",
    "Each entry items[i] has items[i][0] the student’s id, and items[i][1] the student’s score. The average score is calculated using integer division.\n",
    "\n",
    "Example 1:  \n",
    "Input: [[1,91],[1,92],[2,93],[2,97],[1,60],[2,77],[1,65],[1,87],[1,100],[2,100],[2,76]]  \n",
    "Output: [[1,87],[2,88]]  \n",
    "Explanation:   \n",
    "The average of the student with id = 1 is 87.  \n",
    "The average of the student with id = 2 is 88.6. But with integer division their average converts to 88.  "
   ]
  },
  {
   "cell_type": "code",
   "execution_count": 82,
   "metadata": {},
   "outputs": [],
   "source": [
    "def highFive(items):\n",
    "\n",
    "    dic = {}\n",
    "\n",
    "    for _id, mark in items:\n",
    "        \n",
    "        if _id in dic: \n",
    "            dic[_id] = [mark] + dic[_id]\n",
    "        else:\n",
    "            dic[_id] = [mark]\n",
    "\n",
    "    res = []\n",
    "    for key in dic:\n",
    "        temp = dic[key]\n",
    "        temp.sort()\n",
    "        res.append([key, sum(temp[-5:])//5])\n",
    "\n",
    "    return res"
   ]
  },
  {
   "cell_type": "code",
   "execution_count": 83,
   "metadata": {},
   "outputs": [],
   "source": [
    "items = [[1,91],[1,92],[2,93],[2,97],[1,60],[2,77],[1,65],[1,87],[1,100],[2,100],[2,76]]"
   ]
  },
  {
   "cell_type": "code",
   "execution_count": 84,
   "metadata": {},
   "outputs": [
    {
     "data": {
      "text/plain": [
       "[[1, 87], [2, 88]]"
      ]
     },
     "execution_count": 84,
     "metadata": {},
     "output_type": "execute_result"
    }
   ],
   "source": [
    "highFive(items)"
   ]
  },
  {
   "cell_type": "markdown",
   "metadata": {},
   "source": [
    "# Decode Ways\n",
    "\n",
    "A message containing letters from A-Z is being encoded to numbers using the following mapping:\n",
    "\n",
    "'A' -> 1\n",
    "'B' -> 2\n",
    "...\n",
    "'Z' -> 26\n",
    "Given a non-empty string containing only digits, determine the total number of ways to decode it.\n",
    "\n",
    "The answer is guaranteed to fit in a 32-bit integer.\n",
    "\n",
    "Example 1:  \n",
    "Input: s = \"12\"\n",
    "Output: 2\n",
    "Explanation: It could be decoded as \"AB\" (1 2) or \"L\" (12).\n",
    "\n",
    "Example 2:  \n",
    "Input: s = \"226\"\n",
    "Output: 3\n",
    "Explanation: It could be decoded as \"BZ\" (2 26), \"VF\" (22 6), or \"BBF\" (2 2 6).\n",
    "\n",
    "Example 3:  \n",
    "Input: s = \"0\"\n",
    "Output: 0\n",
    "Explanation: There is no character that is mapped to a number starting with '0'. We cannot ignore a zero when we face it while decoding. So, each '0' should be part of \"10\" --> 'J' or \"20\" --> 'T'.\n",
    "\n",
    "Example 4:  \n",
    "Input: s = \"1\"\n",
    "Output: 1"
   ]
  },
  {
   "cell_type": "code",
   "execution_count": 269,
   "metadata": {},
   "outputs": [],
   "source": [
    "def numDecodings(s):\n",
    "\n",
    "    if not s or s[0]=='0':\n",
    "        return 0\n",
    "\n",
    "    dp = [0 for x in range(len(s) + 1)] \n",
    "\n",
    "    # base case initialization\n",
    "    dp[0:2] = [1,1]\n",
    "\n",
    "    for i in range(2, len(s) + 1): \n",
    "        # One step jump\n",
    "        if 0 < int(s[i-1:i]):    \n",
    "            dp[i] = dp[i - 1]\n",
    "            \n",
    "        # Two step jump\n",
    "        if 10 <= int(s[i-2:i]) <= 26:\n",
    "            dp[i] += dp[i - 2]\n",
    "\n",
    "    return dp[-1]"
   ]
  },
  {
   "cell_type": "code",
   "execution_count": 270,
   "metadata": {},
   "outputs": [],
   "source": [
    "s = '226'"
   ]
  },
  {
   "cell_type": "code",
   "execution_count": 271,
   "metadata": {},
   "outputs": [
    {
     "data": {
      "text/plain": [
       "3"
      ]
     },
     "execution_count": 271,
     "metadata": {},
     "output_type": "execute_result"
    }
   ],
   "source": [
    "numDecodings(s)"
   ]
  },
  {
   "cell_type": "markdown",
   "metadata": {},
   "source": [
    "# First Unique Character in a String\n",
    "\n",
    "Given a string, find the first non-repeating character in it and return its index. If it doesn't exist, return -1.\n",
    "\n",
    "Examples:\n",
    "\n",
    "s = \"leetcode\"\n",
    "return 0.\n",
    "\n",
    "s = \"loveleetcode\"\n",
    "return 2."
   ]
  },
  {
   "cell_type": "code",
   "execution_count": 278,
   "metadata": {},
   "outputs": [],
   "source": [
    "def firstUniqChar(s):\n",
    "        \n",
    "    if not s:\n",
    "        return -1\n",
    "    \n",
    "    charsCount = dict()\n",
    "    for char in s:\n",
    "        if char not in charsCount:\n",
    "            charsCount[char] = 1\n",
    "        else:\n",
    "            charsCount[char] += 1\n",
    "    \n",
    "    for idx, char in enumerate(s):\n",
    "        if charsCount[char] == 1:\n",
    "            return idx\n",
    "    \n",
    "    return -1"
   ]
  },
  {
   "cell_type": "code",
   "execution_count": 279,
   "metadata": {},
   "outputs": [],
   "source": [
    "s = 'loveleetcode'"
   ]
  },
  {
   "cell_type": "code",
   "execution_count": 280,
   "metadata": {},
   "outputs": [
    {
     "data": {
      "text/plain": [
       "2"
      ]
     },
     "execution_count": 280,
     "metadata": {},
     "output_type": "execute_result"
    }
   ],
   "source": [
    "firstUniqChar(s)"
   ]
  },
  {
   "cell_type": "markdown",
   "metadata": {},
   "source": [
    "# Game of Life\n",
    "\n",
    "Grid Game: https://leetcode.com/discuss/interview-question/338412/Goldman-Sachs-or-Online-Assessment-2019\n",
    "\n",
    "According to the Wikipedia's article: \"The Game of Life, also known simply as Life, is a cellular automaton devised by the British mathematician John Horton Conway in 1970.\"\n",
    "\n",
    "Given a board with m by n cells, each cell has an initial state live (1) or dead (0). Each cell interacts with its eight neighbors (horizontal, vertical, diagonal) using the following four rules (taken from the above Wikipedia article):\n",
    "\n",
    "Any live cell with fewer than two live neighbors dies, as if caused by under-population.\n",
    "Any live cell with two or three live neighbors lives on to the next generation.\n",
    "Any live cell with more than three live neighbors dies, as if by over-population..\n",
    "Any dead cell with exactly three live neighbors becomes a live cell, as if by reproduction.\n",
    "Write a function to compute the next state (after one update) of the board given its current state. The next state is created by applying the above rules simultaneously to every cell in the current state, where births and deaths occur simultaneously.\n",
    "\n",
    "Example:  \n",
    "Input: \n",
    "[\n",
    "  [0,1,0],  \n",
    "  [0,0,1],  \n",
    "  [1,1,1],  \n",
    "  [0,0,0]  \n",
    "]  \n",
    "\n",
    "Output: \n",
    "[\n",
    "  [0,0,0],  \n",
    "  [1,0,1],  \n",
    "  [0,1,1],  \n",
    "  [0,1,0]\n",
    "]  \n",
    "\n",
    "Follow up:  \n",
    "Could you solve it in-place? Remember that the board needs to be updated at the same time: You cannot update some cells first and then use their updated values to update other cells.\n",
    "In this question, we represent the board using a 2D array. In principle, the board is infinite, which would cause problems when the active area encroaches the border of the array. How would you address these problems?"
   ]
  },
  {
   "cell_type": "code",
   "execution_count": 252,
   "metadata": {},
   "outputs": [],
   "source": [
    "def gameOfLife(board):\n",
    "    \n",
    "    R = len(board)\n",
    "    C = len(board[0])\n",
    "    \n",
    "    Dead = 0\n",
    "    Alive = 1\n",
    "    DeadToAlive = 2\n",
    "    AliveToDead = 3\n",
    "    \n",
    "    def countNeighbors(r, c):\n",
    "        \n",
    "        neighbors = 0\n",
    "        directions = [(0,1),(0,-1),(1,0),(-1,0),(1,1),(-1,-1),(1,-1),(-1,1)]\n",
    "        \n",
    "        for i,j in directions:\n",
    "            if r+i>=0 and r+i<R and c+j>=0 and c+j<C and (board[r+i][c+j]==Alive or board[r+i][c+j]==AliveToDead):\n",
    "                neighbors += 1\n",
    "                \n",
    "        return neighbors\n",
    "\n",
    "    \n",
    "    for r in range(R):\n",
    "        for c in range(C):\n",
    "            \n",
    "            neighbors = countNeighbors(r,c)\n",
    "            \n",
    "            if board[r][c] == Dead:\n",
    "                if neighbors == 3:\n",
    "                    board[r][c] = DeadToAlive\n",
    "            else:\n",
    "                if neighbors != 2 and neighbors != 3:\n",
    "                    board[r][c] = AliveToDead\n",
    "            \n",
    "    for r in range(R):\n",
    "        for c in range(C):\n",
    "            if board[r][c] == DeadToAlive:\n",
    "                board[r][c] = Alive\n",
    "            elif board[r][c] == AliveToDead:\n",
    "                board[r][c] = Dead"
   ]
  },
  {
   "cell_type": "code",
   "execution_count": 256,
   "metadata": {},
   "outputs": [],
   "source": [
    "board = [\n",
    "[0,1,0],\n",
    "[0,0,1],\n",
    "[1,1,1],\n",
    "[0,0,0]\n",
    "]"
   ]
  },
  {
   "cell_type": "code",
   "execution_count": 257,
   "metadata": {},
   "outputs": [],
   "source": [
    "gameOfLife(board)"
   ]
  },
  {
   "cell_type": "code",
   "execution_count": 258,
   "metadata": {},
   "outputs": [
    {
     "data": {
      "text/plain": [
       "[[0, 0, 0], [1, 0, 1], [0, 1, 1], [0, 1, 0]]"
      ]
     },
     "execution_count": 258,
     "metadata": {},
     "output_type": "execute_result"
    }
   ],
   "source": [
    "board"
   ]
  },
  {
   "cell_type": "markdown",
   "metadata": {},
   "source": [
    "# Maximal Commonallity\n",
    "\n",
    "https://leetcode.com/discuss/interview-question/338412/Goldman-Sachs-or-Online-Assessment-2019"
   ]
  },
  {
   "cell_type": "code",
   "execution_count": 304,
   "metadata": {},
   "outputs": [],
   "source": [
    "def maxCommon(s):\n",
    "    \n",
    "    left = collections.Counter('')\n",
    "    right = collections.Counter(s)\n",
    "    res = 0\n",
    "\n",
    "    for char in s:\n",
    "        left[char] += 1\n",
    "        right[char] -= 1\n",
    "        \n",
    "        curMax = sum((left&right).values())\n",
    "        res = max(res, curMax)\n",
    "    \n",
    "    return res"
   ]
  },
  {
   "cell_type": "code",
   "execution_count": 305,
   "metadata": {},
   "outputs": [
    {
     "data": {
      "text/plain": [
       "3"
      ]
     },
     "execution_count": 305,
     "metadata": {},
     "output_type": "execute_result"
    }
   ],
   "source": [
    "s = 'abcdedeara'\n",
    "maxCommon(s)"
   ]
  },
  {
   "cell_type": "code",
   "execution_count": 306,
   "metadata": {
    "scrolled": true
   },
   "outputs": [
    {
     "data": {
      "text/plain": [
       "4"
      ]
     },
     "execution_count": 306,
     "metadata": {},
     "output_type": "execute_result"
    }
   ],
   "source": [
    "s = 'aabbbbaa'\n",
    "maxCommon(s)"
   ]
  },
  {
   "cell_type": "markdown",
   "metadata": {},
   "source": [
    "# Kth Largest Element in an Array\n",
    "\n",
    "Find the kth largest element in an unsorted array. Note that it is the kth largest element in the sorted order, not the kth distinct element.\n",
    "\n",
    "Example 1:\n",
    "\n",
    "Input: [3,2,1,5,6,4] and k = 2\n",
    "Output: 5\n",
    "\n",
    "Example 2:\n",
    "\n",
    "Input: [3,2,3,1,2,4,5,5,6] and k = 4\n",
    "Output: 4"
   ]
  },
  {
   "cell_type": "code",
   "execution_count": 307,
   "metadata": {},
   "outputs": [],
   "source": [
    "def findKthLargest(nums, k):\n",
    "    \n",
    "    n = len(nums)\n",
    "    \n",
    "    for i in range(k):\n",
    "        for j in range(n-i-1):\n",
    "            \n",
    "            if nums[j] > nums[j+1]:\n",
    "                # exchange elements, time consuming\n",
    "                nums[j], nums[j+1] = nums[j+1], nums[j]\n",
    "                \n",
    "    return nums[n-k]"
   ]
  },
  {
   "cell_type": "code",
   "execution_count": 308,
   "metadata": {},
   "outputs": [],
   "source": [
    "nums = [3,2,3,1,2,4,5,5,6]\n",
    "k = 4"
   ]
  },
  {
   "cell_type": "code",
   "execution_count": 309,
   "metadata": {
    "scrolled": true
   },
   "outputs": [
    {
     "data": {
      "text/plain": [
       "4"
      ]
     },
     "execution_count": 309,
     "metadata": {},
     "output_type": "execute_result"
    }
   ],
   "source": [
    "findKthLargest(nums, k)"
   ]
  },
  {
   "cell_type": "markdown",
   "metadata": {},
   "source": [
    "# Reverse an Equation\n",
    "\n",
    "https://www.geeksforgeeks.org/reversing-an-equation/"
   ]
  },
  {
   "cell_type": "code",
   "execution_count": 412,
   "metadata": {},
   "outputs": [],
   "source": [
    "def reverseEq(s):\n",
    "    \n",
    "    res = ''\n",
    "    \n",
    "    nums = ''\n",
    "    for c in s:\n",
    "        if c=='+' or c=='-' or c=='*' or c=='/':\n",
    "            res = c + nums + res\n",
    "            nums = ''\n",
    "        else:\n",
    "            nums += c\n",
    "            \n",
    "    res = nums + res\n",
    "    \n",
    "    return res"
   ]
  },
  {
   "cell_type": "code",
   "execution_count": 413,
   "metadata": {},
   "outputs": [],
   "source": [
    "s = '20+13*2-10/7'"
   ]
  },
  {
   "cell_type": "code",
   "execution_count": 414,
   "metadata": {},
   "outputs": [
    {
     "data": {
      "text/plain": [
       "'7/10-2*13+20'"
      ]
     },
     "execution_count": 414,
     "metadata": {},
     "output_type": "execute_result"
    }
   ],
   "source": [
    "reverseEq(s)"
   ]
  },
  {
   "cell_type": "markdown",
   "metadata": {},
   "source": [
    "# Repeatedly Remove Duplicates\n",
    "\n",
    "https://github.com/hrudwik/Data_structures/blob/master/Companies/Goldmaan%20Sachs/Previously%20asked%20programs/String%20Recursively%20remove%20all%20adjacent%20duplicates/Question\n",
    "\n",
    "Given a string S of lowercase letters, a duplicate removal consists of choosing two adjacent and equal letters, and removing them.\n",
    "\n",
    "We repeatedly make duplicate removals on S until we no longer can.\n",
    "\n",
    "Return the final string after all such duplicate removals have been made.  It is guaranteed the answer is unique.\n",
    "\n",
    "Example 1:\n",
    "\n",
    "Input: \"abbaca\"\n",
    "Output: \"ca\"\n",
    "Explanation: \n",
    "For example, in \"abbaca\" we could remove \"bb\" since the letters are adjacent and equal, and this is the only possible move.  The result of this move is that the string is \"aaca\", of which only \"aa\" is possible, so the final string is \"ca\".\n"
   ]
  },
  {
   "cell_type": "code",
   "execution_count": 471,
   "metadata": {},
   "outputs": [],
   "source": [
    "def removeDuplicates(s):\n",
    "    \n",
    "    res = []\n",
    "    \n",
    "    for c in s:\n",
    "        if not res:\n",
    "            res.append(c)\n",
    "        elif res[-1] == c:\n",
    "            res.pop()\n",
    "        else:\n",
    "            res.append(c)\n",
    "    \n",
    "    return ''.join(res)"
   ]
  },
  {
   "cell_type": "code",
   "execution_count": 472,
   "metadata": {},
   "outputs": [],
   "source": [
    "s = 'abbaca'"
   ]
  },
  {
   "cell_type": "code",
   "execution_count": 473,
   "metadata": {},
   "outputs": [
    {
     "data": {
      "text/plain": [
       "'ca'"
      ]
     },
     "execution_count": 473,
     "metadata": {},
     "output_type": "execute_result"
    }
   ],
   "source": [
    "removeDuplicates(s)"
   ]
  }
 ],
 "metadata": {
  "hide_input": false,
  "kernelspec": {
   "display_name": "Python 3",
   "language": "python",
   "name": "python3"
  },
  "language_info": {
   "codemirror_mode": {
    "name": "ipython",
    "version": 3
   },
   "file_extension": ".py",
   "mimetype": "text/x-python",
   "name": "python",
   "nbconvert_exporter": "python",
   "pygments_lexer": "ipython3",
   "version": "3.7.4"
  },
  "toc": {
   "base_numbering": 1,
   "nav_menu": {},
   "number_sections": true,
   "sideBar": true,
   "skip_h1_title": false,
   "title_cell": "Table of Contents",
   "title_sidebar": "Contents",
   "toc_cell": false,
   "toc_position": {
    "height": "calc(100% - 180px)",
    "left": "10px",
    "top": "150px",
    "width": "269px"
   },
   "toc_section_display": true,
   "toc_window_display": true
  }
 },
 "nbformat": 4,
 "nbformat_minor": 2
}
