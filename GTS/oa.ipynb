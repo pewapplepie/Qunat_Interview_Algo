{
 "cells": [
  {
   "cell_type": "markdown",
   "metadata": {},
   "source": [
    "## Count Inversions\n",
    "\n",
    "Determine the number of inversions within a given array\n",
    "\n",
    "A subsequence is created by deleting zero or more elements from a list while maintaining the order. \n",
    "For example, the subsequences of [1,2,3] are [1],[2],[3],[1,2],[1,3],[2,3],[1,2,3].\n",
    "\n",
    "An inversion is a strictly decreasing subsequnece of length 3. More formally, given an array p of size n, an inversion in the array is any time some p[i] > p[j] > p[k] and i<j<k.\n",
    "```\n",
    "Eg.\n",
    "n = 5\n",
    "arr = [5,3,4,2,1]\n",
    "inversions are:\n",
    "[5,3,2]\n",
    "[5,3,1]\n",
    "[5,4,2]\n",
    "[5,4,1]\n",
    "[5,2,1]\n",
    "[3,2,1]\n",
    "[4,2,1]\n",
    "```"
   ]
  },
  {
   "cell_type": "code",
   "execution_count": 14,
   "metadata": {},
   "outputs": [],
   "source": [
    "def inversion(arr, n):\n",
    "    ttlcount = 0\n",
    "    for i in range(1, n-1):\n",
    "        left = [arr[idx] for idx in range(i) if arr[idx] > arr[i]]\n",
    "        right = [arr[idx] for idx in range(i+1, n) if arr[idx] < arr[i]]\n",
    "        ttlcount += (len(left) * len(right))\n",
    "    return ttlcount "
   ]
  },
  {
   "cell_type": "code",
   "execution_count": 15,
   "metadata": {},
   "outputs": [
    {
     "data": {
      "text/plain": [
       "7"
      ]
     },
     "execution_count": 15,
     "metadata": {},
     "output_type": "execute_result"
    }
   ],
   "source": [
    "arr = [5,3,4,2,1]\n",
    "inversion(arr, 5)"
   ]
  },
  {
   "cell_type": "markdown",
   "metadata": {},
   "source": [
    "## Parking Distance\n",
    "\n",
    "the parking lot is a straight line with a parking spot for every meter. There are n cars currently parked and you need a roof to cover at least k cars. \n",
    "Determine the minimum length of such roof.\n",
    "```\n",
    "Example\n",
    "n = 4\n",
    "cars = [6,2,12,7]\n",
    "k = 3\n",
    "\n",
    "Two roofs that cover three cars are possible: one covering spots 2 through 7 with a length of 6, and another covering slots 6 through 12 with a length of 7. The shortest roof that meets the requirement is of length 6. \n",
    "```"
   ]
  },
  {
   "cell_type": "code",
   "execution_count": 26,
   "metadata": {},
   "outputs": [
    {
     "data": {
      "text/plain": [
       "6"
      ]
     },
     "execution_count": 26,
     "metadata": {},
     "output_type": "execute_result"
    }
   ],
   "source": [
    "def parking_dist(n, cars, k):\n",
    "    cars = sorted(cars)\n",
    "    minroof = float('inf')\n",
    "    currcover = 0\n",
    "    idx = 0\n",
    "    while idx < len(cars) -k:\n",
    "        currcover = cars[idx + k - 1] - cars[idx]\n",
    "        minroof = min(currcover+1, minroof)\n",
    "        idx+=1\n",
    "    return minroof\n",
    "parking_dist(4, [6,2,12,7],3)\n",
    "            "
   ]
  },
  {
   "cell_type": "code",
   "execution_count": null,
   "metadata": {},
   "outputs": [],
   "source": []
  }
 ],
 "metadata": {
  "kernelspec": {
   "display_name": "Python 3.8.5 ('base')",
   "language": "python",
   "name": "python3"
  },
  "language_info": {
   "codemirror_mode": {
    "name": "ipython",
    "version": 3
   },
   "file_extension": ".py",
   "mimetype": "text/x-python",
   "name": "python",
   "nbconvert_exporter": "python",
   "pygments_lexer": "ipython3",
   "version": "3.8.5"
  },
  "orig_nbformat": 4,
  "vscode": {
   "interpreter": {
    "hash": "af517d33417f06404d6ddd339bdefd26b208de8ac872084afb5c195089b2d331"
   }
  }
 },
 "nbformat": 4,
 "nbformat_minor": 2
}
