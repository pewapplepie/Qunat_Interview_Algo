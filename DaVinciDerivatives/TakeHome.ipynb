{
 "cells": [
  {
   "cell_type": "code",
   "execution_count": 1,
   "source": [
    "import pandas as pd\n",
    "import numpy as np"
   ],
   "outputs": [],
   "metadata": {}
  },
  {
   "cell_type": "code",
   "execution_count": 2,
   "source": [
    "stockA = pd.read_csv('stockA.csv')\n",
    "stockB = pd.read_csv('stockB.csv')"
   ],
   "outputs": [],
   "metadata": {}
  },
  {
   "cell_type": "code",
   "execution_count": 3,
   "source": [
    "stockA['timestamp'] = stockA['timestamp'].apply(lambda x: pd.Timestamp(x))\n",
    "stockB['timestamp'] = stockB['timestamp'].apply(lambda x: pd.Timestamp(x))"
   ],
   "outputs": [],
   "metadata": {}
  },
  {
   "cell_type": "code",
   "execution_count": 4,
   "source": [
    "stockA['stock'] = 'A'\n",
    "stockB['stock'] = 'B'"
   ],
   "outputs": [],
   "metadata": {}
  },
  {
   "cell_type": "code",
   "execution_count": 5,
   "source": [
    "stockA.head()"
   ],
   "outputs": [
    {
     "output_type": "execute_result",
     "data": {
      "text/html": [
       "<div>\n",
       "<style scoped>\n",
       "    .dataframe tbody tr th:only-of-type {\n",
       "        vertical-align: middle;\n",
       "    }\n",
       "\n",
       "    .dataframe tbody tr th {\n",
       "        vertical-align: top;\n",
       "    }\n",
       "\n",
       "    .dataframe thead th {\n",
       "        text-align: right;\n",
       "    }\n",
       "</style>\n",
       "<table border=\"1\" class=\"dataframe\">\n",
       "  <thead>\n",
       "    <tr style=\"text-align: right;\">\n",
       "      <th></th>\n",
       "      <th>timestamp</th>\n",
       "      <th>price</th>\n",
       "      <th>stock</th>\n",
       "    </tr>\n",
       "  </thead>\n",
       "  <tbody>\n",
       "    <tr>\n",
       "      <th>0</th>\n",
       "      <td>2019-05-23 08:00:00.606442928</td>\n",
       "      <td>100.644735</td>\n",
       "      <td>A</td>\n",
       "    </tr>\n",
       "    <tr>\n",
       "      <th>1</th>\n",
       "      <td>2019-05-23 08:00:01.375669956</td>\n",
       "      <td>100.053412</td>\n",
       "      <td>A</td>\n",
       "    </tr>\n",
       "    <tr>\n",
       "      <th>2</th>\n",
       "      <td>2019-05-23 08:00:02.180773020</td>\n",
       "      <td>100.302794</td>\n",
       "      <td>A</td>\n",
       "    </tr>\n",
       "    <tr>\n",
       "      <th>3</th>\n",
       "      <td>2019-05-23 08:00:02.452453375</td>\n",
       "      <td>99.529842</td>\n",
       "      <td>A</td>\n",
       "    </tr>\n",
       "    <tr>\n",
       "      <th>4</th>\n",
       "      <td>2019-05-23 08:00:04.842424154</td>\n",
       "      <td>99.422729</td>\n",
       "      <td>A</td>\n",
       "    </tr>\n",
       "  </tbody>\n",
       "</table>\n",
       "</div>"
      ],
      "text/plain": [
       "                      timestamp       price stock\n",
       "0 2019-05-23 08:00:00.606442928  100.644735     A\n",
       "1 2019-05-23 08:00:01.375669956  100.053412     A\n",
       "2 2019-05-23 08:00:02.180773020  100.302794     A\n",
       "3 2019-05-23 08:00:02.452453375   99.529842     A\n",
       "4 2019-05-23 08:00:04.842424154   99.422729     A"
      ]
     },
     "metadata": {},
     "execution_count": 5
    }
   ],
   "metadata": {}
  },
  {
   "cell_type": "code",
   "execution_count": 6,
   "source": [
    "stockB.head()"
   ],
   "outputs": [
    {
     "output_type": "execute_result",
     "data": {
      "text/html": [
       "<div>\n",
       "<style scoped>\n",
       "    .dataframe tbody tr th:only-of-type {\n",
       "        vertical-align: middle;\n",
       "    }\n",
       "\n",
       "    .dataframe tbody tr th {\n",
       "        vertical-align: top;\n",
       "    }\n",
       "\n",
       "    .dataframe thead th {\n",
       "        text-align: right;\n",
       "    }\n",
       "</style>\n",
       "<table border=\"1\" class=\"dataframe\">\n",
       "  <thead>\n",
       "    <tr style=\"text-align: right;\">\n",
       "      <th></th>\n",
       "      <th>timestamp</th>\n",
       "      <th>price</th>\n",
       "      <th>stock</th>\n",
       "    </tr>\n",
       "  </thead>\n",
       "  <tbody>\n",
       "    <tr>\n",
       "      <th>0</th>\n",
       "      <td>2019-05-23 08:00:00.537101596</td>\n",
       "      <td>100.641682</td>\n",
       "      <td>B</td>\n",
       "    </tr>\n",
       "    <tr>\n",
       "      <th>1</th>\n",
       "      <td>2019-05-23 08:00:01.507983251</td>\n",
       "      <td>100.055078</td>\n",
       "      <td>B</td>\n",
       "    </tr>\n",
       "    <tr>\n",
       "      <th>2</th>\n",
       "      <td>2019-05-23 08:00:02.242291019</td>\n",
       "      <td>100.303963</td>\n",
       "      <td>B</td>\n",
       "    </tr>\n",
       "    <tr>\n",
       "      <th>3</th>\n",
       "      <td>2019-05-23 08:00:02.627328232</td>\n",
       "      <td>99.529162</td>\n",
       "      <td>B</td>\n",
       "    </tr>\n",
       "    <tr>\n",
       "      <th>4</th>\n",
       "      <td>2019-05-23 08:00:04.973570211</td>\n",
       "      <td>99.423361</td>\n",
       "      <td>B</td>\n",
       "    </tr>\n",
       "  </tbody>\n",
       "</table>\n",
       "</div>"
      ],
      "text/plain": [
       "                      timestamp       price stock\n",
       "0 2019-05-23 08:00:00.537101596  100.641682     B\n",
       "1 2019-05-23 08:00:01.507983251  100.055078     B\n",
       "2 2019-05-23 08:00:02.242291019  100.303963     B\n",
       "3 2019-05-23 08:00:02.627328232   99.529162     B\n",
       "4 2019-05-23 08:00:04.973570211   99.423361     B"
      ]
     },
     "metadata": {},
     "execution_count": 6
    }
   ],
   "metadata": {}
  },
  {
   "cell_type": "code",
   "execution_count": 7,
   "source": [
    "stock = stockA.append(stockB).sort_values('timestamp')"
   ],
   "outputs": [],
   "metadata": {}
  },
  {
   "cell_type": "code",
   "execution_count": 8,
   "source": [
    "stock"
   ],
   "outputs": [
    {
     "output_type": "execute_result",
     "data": {
      "text/html": [
       "<div>\n",
       "<style scoped>\n",
       "    .dataframe tbody tr th:only-of-type {\n",
       "        vertical-align: middle;\n",
       "    }\n",
       "\n",
       "    .dataframe tbody tr th {\n",
       "        vertical-align: top;\n",
       "    }\n",
       "\n",
       "    .dataframe thead th {\n",
       "        text-align: right;\n",
       "    }\n",
       "</style>\n",
       "<table border=\"1\" class=\"dataframe\">\n",
       "  <thead>\n",
       "    <tr style=\"text-align: right;\">\n",
       "      <th></th>\n",
       "      <th>timestamp</th>\n",
       "      <th>price</th>\n",
       "      <th>stock</th>\n",
       "    </tr>\n",
       "  </thead>\n",
       "  <tbody>\n",
       "    <tr>\n",
       "      <th>0</th>\n",
       "      <td>2019-05-23 08:00:00.537101596</td>\n",
       "      <td>100.641682</td>\n",
       "      <td>B</td>\n",
       "    </tr>\n",
       "    <tr>\n",
       "      <th>0</th>\n",
       "      <td>2019-05-23 08:00:00.606442928</td>\n",
       "      <td>100.644735</td>\n",
       "      <td>A</td>\n",
       "    </tr>\n",
       "    <tr>\n",
       "      <th>1</th>\n",
       "      <td>2019-05-23 08:00:01.375669956</td>\n",
       "      <td>100.053412</td>\n",
       "      <td>A</td>\n",
       "    </tr>\n",
       "    <tr>\n",
       "      <th>1</th>\n",
       "      <td>2019-05-23 08:00:01.507983251</td>\n",
       "      <td>100.055078</td>\n",
       "      <td>B</td>\n",
       "    </tr>\n",
       "    <tr>\n",
       "      <th>2</th>\n",
       "      <td>2019-05-23 08:00:02.180773020</td>\n",
       "      <td>100.302794</td>\n",
       "      <td>A</td>\n",
       "    </tr>\n",
       "    <tr>\n",
       "      <th>...</th>\n",
       "      <td>...</td>\n",
       "      <td>...</td>\n",
       "      <td>...</td>\n",
       "    </tr>\n",
       "    <tr>\n",
       "      <th>79521</th>\n",
       "      <td>2019-05-23 21:59:57.684374094</td>\n",
       "      <td>99.699207</td>\n",
       "      <td>A</td>\n",
       "    </tr>\n",
       "    <tr>\n",
       "      <th>77817</th>\n",
       "      <td>2019-05-23 21:59:57.880291044</td>\n",
       "      <td>99.848986</td>\n",
       "      <td>B</td>\n",
       "    </tr>\n",
       "    <tr>\n",
       "      <th>79522</th>\n",
       "      <td>2019-05-23 21:59:57.920438051</td>\n",
       "      <td>99.850213</td>\n",
       "      <td>A</td>\n",
       "    </tr>\n",
       "    <tr>\n",
       "      <th>79523</th>\n",
       "      <td>2019-05-23 21:59:58.169214964</td>\n",
       "      <td>100.837242</td>\n",
       "      <td>A</td>\n",
       "    </tr>\n",
       "    <tr>\n",
       "      <th>77818</th>\n",
       "      <td>2019-05-23 21:59:58.271073330</td>\n",
       "      <td>100.837496</td>\n",
       "      <td>B</td>\n",
       "    </tr>\n",
       "  </tbody>\n",
       "</table>\n",
       "<p>157343 rows × 3 columns</p>\n",
       "</div>"
      ],
      "text/plain": [
       "                          timestamp       price stock\n",
       "0     2019-05-23 08:00:00.537101596  100.641682     B\n",
       "0     2019-05-23 08:00:00.606442928  100.644735     A\n",
       "1     2019-05-23 08:00:01.375669956  100.053412     A\n",
       "1     2019-05-23 08:00:01.507983251  100.055078     B\n",
       "2     2019-05-23 08:00:02.180773020  100.302794     A\n",
       "...                             ...         ...   ...\n",
       "79521 2019-05-23 21:59:57.684374094   99.699207     A\n",
       "77817 2019-05-23 21:59:57.880291044   99.848986     B\n",
       "79522 2019-05-23 21:59:57.920438051   99.850213     A\n",
       "79523 2019-05-23 21:59:58.169214964  100.837242     A\n",
       "77818 2019-05-23 21:59:58.271073330  100.837496     B\n",
       "\n",
       "[157343 rows x 3 columns]"
      ]
     },
     "metadata": {},
     "execution_count": 8
    }
   ],
   "metadata": {}
  },
  {
   "cell_type": "code",
   "execution_count": 38,
   "source": [
    "stockB.iloc[2]['timestamp'] + ts_M < stockB.iloc[3]['timestamp']"
   ],
   "outputs": [
    {
     "output_type": "execute_result",
     "data": {
      "text/plain": [
       "True"
      ]
     },
     "metadata": {},
     "execution_count": 38
    }
   ],
   "metadata": {}
  },
  {
   "cell_type": "code",
   "execution_count": 9,
   "source": [
    "M = 0.04\n",
    "ts_M = pd.to_timedelta(M, unit='s')\n",
    "c = 4.0\n",
    "\n",
    "last_A_price = stockA.iloc[0]['price']\n",
    "current_B_price = stockB.iloc[0]['price']\n",
    "bought = False\n",
    "sold = False\n",
    "\n",
    "profit = 0\n",
    "\n",
    "for i in range(len(stock)):\n",
    "    \n",
    "    current_time = stock.iloc[i]['timestamp']\n",
    "    current_stock = stock.iloc[i]['stock']\n",
    "    \n",
    "    if current_stock == 'A':\n",
    "        current_A_price = stock.iloc[i]['price']\n",
    "        if current_A_price > last_A_price + c:\n",
    "            #buy B \n",
    "            current_B_price = stock[(stock['timestamp'] <= current_time + ts_M) & (stock['stock'] == 'B')].iloc[-1]['price']\n",
    "            profit -= current_B_price\n",
    "            last_A_price = current_A_price\n",
    "            bought = True\n",
    "        \n",
    "        elif current_A_price < last_A_price - c:\n",
    "            #sell B\n",
    "            current_B_price = stock[(stock['timestamp'] <= current_time + ts_M) & (stock['stock'] == 'B')].iloc[-1]['price']\n",
    "            profit += current_B_price\n",
    "            last_A_price = stock.iloc[i]['price']\n",
    "            sold = True\n",
    "\n",
    "    if current_stock == 'B' and stock.iloc[i]['price'] != current_B_price:\n",
    "        if bought:\n",
    "            #sell B\n",
    "            current_B_price = stock[(stock['timestamp'] <= current_time + ts_M) & (stock['stock'] == 'B')].iloc[-1]['price']\n",
    "            profit += current_B_price\n",
    "            bought = False\n",
    "        if sold:\n",
    "            #buy B\n",
    "            current_B_price = stock[(stock['timestamp'] <= current_time + ts_M) & (stock['stock'] == 'B')].iloc[-1]['price']\n",
    "            profit -= current_B_price\n",
    "            sold = False\n"
   ],
   "outputs": [],
   "metadata": {}
  },
  {
   "cell_type": "code",
   "execution_count": 10,
   "source": [
    "profit"
   ],
   "outputs": [
    {
     "output_type": "execute_result",
     "data": {
      "text/plain": [
       "76.3924594326477"
      ]
     },
     "metadata": {},
     "execution_count": 10
    }
   ],
   "metadata": {}
  },
  {
   "cell_type": "code",
   "execution_count": null,
   "source": [],
   "outputs": [],
   "metadata": {}
  }
 ],
 "metadata": {
  "kernelspec": {
   "name": "python3",
   "display_name": "Python 3.8.5 64-bit"
  },
  "language_info": {
   "codemirror_mode": {
    "name": "ipython",
    "version": 3
   },
   "file_extension": ".py",
   "mimetype": "text/x-python",
   "name": "python",
   "nbconvert_exporter": "python",
   "pygments_lexer": "ipython3",
   "version": "3.8.5"
  },
  "interpreter": {
   "hash": "976ce2bda790a58f831b3cd9628791a12ef5b3d61773f61425a8047b1ad6a185"
  }
 },
 "nbformat": 4,
 "nbformat_minor": 4
}